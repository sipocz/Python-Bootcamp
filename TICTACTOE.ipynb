{
  "nbformat": 4,
  "nbformat_minor": 0,
  "metadata": {
    "colab": {
      "name": "TICTACTOE.ipynb",
      "provenance": [],
      "authorship_tag": "ABX9TyMIOLf9/CewN7xem3OcSynY",
      "include_colab_link": true
    },
    "kernelspec": {
      "name": "python3",
      "display_name": "Python 3"
    }
  },
  "cells": [
    {
      "cell_type": "markdown",
      "metadata": {
        "id": "view-in-github",
        "colab_type": "text"
      },
      "source": [
        "<a href=\"https://colab.research.google.com/github/sipocz/Python-Bootcamp/blob/master/TICTACTOE.ipynb\" target=\"_parent\"><img src=\"https://colab.research.google.com/assets/colab-badge.svg\" alt=\"Open In Colab\"/></a>"
      ]
    },
    {
      "cell_type": "code",
      "metadata": {
        "id": "xaxNAWJwK6mB",
        "colab_type": "code",
        "colab": {}
      },
      "source": [
        "def printboard(board):\n",
        "    print( f\"+-----------------+\")\n",
        "    print( f\"|  {board[0]}  |  {board[0]}  |  {board[0]}  |\")\n",
        "    print( f'|  {board[7]}  |  {board[8]}  |  {board[9]}  |')\n",
        "    print( f\"|  {board[0]}  |  {board[0]}  |  {board[0]}  |\")\n",
        "    print( f\"|-----|-----|-----|\")\n",
        "    print( f\"|  {board[0]}  |  {board[0]}  |  {board[0]}  |\")\n",
        "    print( f\"|  {board[4]}  |  {board[5]}  |  {board[6]}  |\")\n",
        "    print( f\"|  {board[0]}  |  {board[0]}  |  {board[0]}  |\")\n",
        "    print( f\"|-----|-----|-----|\")\n",
        "    print( f\"|  {board[0]}  |  {board[0]}  |  {board[0]}  |\")\n",
        "    print( f\"|  {board[1]}  |  {board[2]}  |  {board[3]}  |\")\n",
        "    print( f\"|  {board[0]}  |  {board[0]}  |  {board[0]}  |\")\n",
        "    print( f\"+-----------------+\")\n",
        "    "
      ],
      "execution_count": 0,
      "outputs": []
    },
    {
      "cell_type": "code",
      "metadata": {
        "id": "-3miZRhaLDyb",
        "colab_type": "code",
        "colab": {}
      },
      "source": [
        "def getinput(jatekos,baba,board):\n",
        "    empty=[\" \",\"1\",\"2\",\"3\",\"4\",\"5\",\"6\",\"7\",\"8\",\"9\"]\n",
        "    good=False\n",
        "    while not good:\n",
        "        a= int(input(f'{jatekos}. játékos adja meg a poziciót:'))\n",
        "        if a in range(1,10) and board[a] in empty:      \n",
        "            board[a]=baba\n",
        "            printboard(board)\n",
        "            good=True\n",
        "        else:\n",
        "            print(\"Hibás adatbevitel!!\")\n",
        "   \n",
        "    \n",
        "    "
      ],
      "execution_count": 0,
      "outputs": []
    },
    {
      "cell_type": "code",
      "metadata": {
        "id": "4pJaWM23LIJh",
        "colab_type": "code",
        "colab": {}
      },
      "source": [
        "def check_goal(board):\n",
        "    out=False\n",
        "    for i in range(0,3):\n",
        "        if board[1+i]==board[4+i]==board[7+i]:\n",
        "            out=True\n",
        "        \n",
        "    if board[1]==board[2]==board[3]:\n",
        "        out=True\n",
        "    if board[4]==board[5]==board[6]:\n",
        "        out=True\n",
        "    if board[7]==board[8]==board[9]:\n",
        "        out=True\n",
        "        \n",
        "    if board[3]==board[5]==board[7]:\n",
        "        out=True\n",
        "    if board[1]==board[5]==board[9]:\n",
        "        out=True\n",
        "    return (out)\n",
        "        \n",
        "        \n",
        "    "
      ],
      "execution_count": 0,
      "outputs": []
    },
    {
      "cell_type": "code",
      "metadata": {
        "id": "etIuXO0_LP_R",
        "colab_type": "code",
        "colab": {}
      },
      "source": [
        "def run():\n",
        "    board=[\" \",\"1\",\"2\",\"3\",\"4\",\"5\",\"6\",\"7\",\"8\",\"9\"]\n",
        "    babax={1:\"X\",2:\"O\"}\n",
        "    printboard(board)\n",
        "    endgame=False\n",
        "    turn=0\n",
        "    while not endgame: \n",
        "        \n",
        "        jatekos=turn % 2 +1 \n",
        "        baba=babax[jatekos]\n",
        "        getinput(jatekos,baba,board)\n",
        "        turn+=1\n",
        "        if check_goal(board):\n",
        "            print(f'AZ {jatekos}. játékos megnyerte a játékot a(z) {baba} bábuval!!' )\n",
        "            endgame=True\n",
        "        \n",
        "        if turn==10:\n",
        "            print(f'A játék véget ért Döntetlen! ' )\n",
        "            endgame=True\n",
        "           \n",
        "        \n",
        "        \n",
        "   "
      ],
      "execution_count": 0,
      "outputs": []
    },
    {
      "cell_type": "code",
      "metadata": {
        "id": "40IOlls_LYGX",
        "colab_type": "code",
        "colab": {
          "base_uri": "https://localhost:8080/",
          "height": 1000
        },
        "outputId": "4ba498ad-bdff-471b-e622-7c06288122f7"
      },
      "source": [
        "run()\n"
      ],
      "execution_count": 5,
      "outputs": [
        {
          "output_type": "stream",
          "text": [
            "+-----------------+\n",
            "|     |     |     |\n",
            "|  7  |  8  |  9  |\n",
            "|     |     |     |\n",
            "|-----|-----|-----|\n",
            "|     |     |     |\n",
            "|  4  |  5  |  6  |\n",
            "|     |     |     |\n",
            "|-----|-----|-----|\n",
            "|     |     |     |\n",
            "|  1  |  2  |  3  |\n",
            "|     |     |     |\n",
            "+-----------------+\n",
            "1. játékos adja meg a poziciót:3\n",
            "+-----------------+\n",
            "|     |     |     |\n",
            "|  7  |  8  |  9  |\n",
            "|     |     |     |\n",
            "|-----|-----|-----|\n",
            "|     |     |     |\n",
            "|  4  |  5  |  6  |\n",
            "|     |     |     |\n",
            "|-----|-----|-----|\n",
            "|     |     |     |\n",
            "|  1  |  2  |  X  |\n",
            "|     |     |     |\n",
            "+-----------------+\n",
            "2. játékos adja meg a poziciót:6\n",
            "+-----------------+\n",
            "|     |     |     |\n",
            "|  7  |  8  |  9  |\n",
            "|     |     |     |\n",
            "|-----|-----|-----|\n",
            "|     |     |     |\n",
            "|  4  |  5  |  O  |\n",
            "|     |     |     |\n",
            "|-----|-----|-----|\n",
            "|     |     |     |\n",
            "|  1  |  2  |  X  |\n",
            "|     |     |     |\n",
            "+-----------------+\n",
            "1. játékos adja meg a poziciót:5\n",
            "+-----------------+\n",
            "|     |     |     |\n",
            "|  7  |  8  |  9  |\n",
            "|     |     |     |\n",
            "|-----|-----|-----|\n",
            "|     |     |     |\n",
            "|  4  |  X  |  O  |\n",
            "|     |     |     |\n",
            "|-----|-----|-----|\n",
            "|     |     |     |\n",
            "|  1  |  2  |  X  |\n",
            "|     |     |     |\n",
            "+-----------------+\n",
            "2. játékos adja meg a poziciót:9\n",
            "+-----------------+\n",
            "|     |     |     |\n",
            "|  7  |  8  |  O  |\n",
            "|     |     |     |\n",
            "|-----|-----|-----|\n",
            "|     |     |     |\n",
            "|  4  |  X  |  O  |\n",
            "|     |     |     |\n",
            "|-----|-----|-----|\n",
            "|     |     |     |\n",
            "|  1  |  2  |  X  |\n",
            "|     |     |     |\n",
            "+-----------------+\n",
            "1. játékos adja meg a poziciót:7\n",
            "+-----------------+\n",
            "|     |     |     |\n",
            "|  X  |  8  |  O  |\n",
            "|     |     |     |\n",
            "|-----|-----|-----|\n",
            "|     |     |     |\n",
            "|  4  |  X  |  O  |\n",
            "|     |     |     |\n",
            "|-----|-----|-----|\n",
            "|     |     |     |\n",
            "|  1  |  2  |  X  |\n",
            "|     |     |     |\n",
            "+-----------------+\n",
            "AZ 1. játékos megnyerte a játékot a(z) X bábuval!!\n"
          ],
          "name": "stdout"
        }
      ]
    }
  ]
}